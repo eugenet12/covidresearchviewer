{
 "cells": [
  {
   "cell_type": "markdown",
   "metadata": {},
   "source": [
    "**summarization.py**"
   ]
  },
  {
   "cell_type": "code",
   "execution_count": 1,
   "metadata": {},
   "outputs": [],
   "source": [
    "import os\n",
    "os.environ[\"COVID_WEBAPP_DATA_DIR\"] = \"/Users/eugenetang/Development/data/covid_19/cord19/20200609\"\n",
    "import summarization\n",
    "bert_summarizer = summarization.BertSummarizer()\n",
    "\n",
    "%load_ext autoreload\n",
    "%autoreload 2"
   ]
  },
  {
   "cell_type": "code",
   "execution_count": 2,
   "metadata": {},
   "outputs": [],
   "source": [
    "sample_text = 'Peter and Elizabeth took a taxi to attend the night party in the city. While in the party, Elizabeth collapsed and was rushed to the hospital. Since she was diagnosed with a brain injury, the doctor told Peter to stay besides her until she gets well. Therefore, Peter stayed with her at the hospital for 3 days without leaving.'"
   ]
  },
  {
   "cell_type": "code",
   "execution_count": 4,
   "metadata": {},
   "outputs": [
    {
     "data": {
      "text/plain": [
       "'While in the party, Elizabeth collapsed and was rushed to the hospital. Therefore, Peter stayed with her at the hospital for 3 days without leaving. '"
      ]
     },
     "execution_count": 4,
     "metadata": {},
     "output_type": "execute_result"
    }
   ],
   "source": [
    "summarization.summarization_tf(sample_text, num_sentences=2)"
   ]
  },
  {
   "cell_type": "code",
   "execution_count": 5,
   "metadata": {},
   "outputs": [
    {
     "data": {
      "text/plain": [
       "'Peter and Elizabeth took a taxi to attend the night party in the city. While in the party, Elizabeth collapsed and was rushed to the hospital.'"
      ]
     },
     "execution_count": 5,
     "metadata": {},
     "output_type": "execute_result"
    }
   ],
   "source": [
    "bert_summarizer.summarize_text(sample_text)"
   ]
  },
  {
   "cell_type": "code",
   "execution_count": 6,
   "metadata": {},
   "outputs": [
    {
     "data": {
      "text/plain": [
       "array([-8.09767485e-01,  2.11434215e-02, -1.78428411e-01, -9.46001783e-02,\n",
       "        9.96160321e-03, -1.12370864e-01, -1.63367540e-01, -1.03878491e-01,\n",
       "       -2.09486067e-01, -1.87459797e-01,  1.87235415e-01,  3.77823301e-02,\n",
       "       -7.05588609e-02,  1.10700317e-02,  1.66045308e-01, -2.19913885e-01,\n",
       "        3.97447377e-01,  1.02787443e-01, -7.96984956e-02, -3.66716117e-01,\n",
       "        1.67780265e-01, -2.06572905e-01,  3.58504057e-01, -3.72476876e-03,\n",
       "        2.52135456e-01, -4.21983957e-01, -7.71399289e-02, -3.09320569e-01,\n",
       "       -4.90827523e-02,  1.97155535e-01, -3.46822403e-02, -7.25025296e-01,\n",
       "       -2.84346193e-02, -6.89323068e-01, -6.72526807e-02,  1.95142269e-01,\n",
       "        6.01134375e-02, -2.16132522e-01, -4.30595517e-01, -4.42679405e-01,\n",
       "       -4.58435237e-01,  1.66209996e-01, -6.93082586e-02,  1.57353312e-01,\n",
       "       -1.30376399e-01,  2.34694034e-01,  4.05962765e-01, -8.63363221e-02,\n",
       "       -8.40375125e-02, -3.84273231e-01,  2.86078062e-02,  3.69613916e-02,\n",
       "        4.15079951e-01, -2.51622647e-01,  2.74526477e-02,  1.95158288e-01,\n",
       "       -2.95317382e-01, -4.18049157e-01,  3.40866148e-01, -7.05110282e-02,\n",
       "        1.00395083e-01, -4.74976718e-01,  3.87564719e-01,  7.49963522e-01,\n",
       "        3.55275907e-02, -4.86371070e-01,  5.49334228e-01,  1.42319322e-01,\n",
       "       -2.93419719e-01,  2.07066953e-01,  2.33982816e-01,  4.03785467e-01,\n",
       "       -1.96588308e-01,  5.52460611e-01, -2.36088991e-01,  1.07568011e-01,\n",
       "        1.35913551e-01,  3.89535457e-01, -5.20525798e-02, -4.25853938e-01,\n",
       "       -8.28272030e-02, -1.97679088e-01,  7.63615221e-02, -1.53275669e-01,\n",
       "        1.75538868e-01,  4.78627145e-01, -1.43983990e-01,  1.93925500e-02,\n",
       "       -3.37854505e-01, -1.13793135e-01,  4.63891566e-01, -2.17946127e-01,\n",
       "       -4.99599278e-02, -3.71732324e-01,  3.35621953e-01, -4.72092152e-01,\n",
       "       -3.81775498e-02, -2.34762102e-01, -7.71465823e-02, -2.90225267e-01,\n",
       "       -6.34016931e-01, -5.25701702e-01,  2.25254223e-01, -2.85430819e-01,\n",
       "        1.67845428e-01, -3.17280203e-01, -1.95567995e-01, -6.46590814e-02,\n",
       "       -2.15277225e-02,  2.68730283e-01,  5.70976615e-01, -8.15837443e-01,\n",
       "       -2.15425771e-02, -1.58494473e-01,  2.15188235e-01, -4.33597863e-01,\n",
       "        7.50413612e-02,  1.91482276e-01, -9.09754261e-03,  5.31552851e-01,\n",
       "       -8.16006586e-03,  3.77433836e-01, -1.02502197e-01, -1.50442749e-01,\n",
       "        2.52841562e-01, -8.52006823e-02, -1.17326334e-01, -4.44138646e-01,\n",
       "        2.48218536e-01, -5.15808523e-01,  3.12803611e-02, -8.87417942e-02,\n",
       "       -1.56612366e-01,  1.24765053e-01,  2.07776219e-01,  1.09077111e-01,\n",
       "       -1.39682531e-01,  2.74751365e-01, -2.04574347e-01, -3.95841897e-02,\n",
       "        2.88563162e-01, -2.33498365e-01, -8.85061920e-04,  8.81631225e-02,\n",
       "        4.19756025e-01,  4.37104881e-01, -1.61930174e-02, -2.22470641e-01,\n",
       "       -2.25861937e-01, -5.18158972e-01, -5.59238434e-01,  1.25315472e-01,\n",
       "        1.37902088e-02,  3.37757803e-02,  2.50406086e-01,  3.82433355e-01,\n",
       "       -2.55511999e-01,  2.48625621e-01, -2.28560776e-01, -6.84484886e-03,\n",
       "        4.08716321e-01,  2.54160371e-02, -1.85586125e-01,  3.83102179e-01,\n",
       "       -2.26021335e-01,  4.46595967e-01, -2.90345997e-01, -1.25446871e-01,\n",
       "        4.14342791e-01, -3.92012820e-02, -1.10738158e-01,  7.80394152e-02,\n",
       "        2.56017238e-01,  2.77118772e-01,  4.87725288e-01, -1.16545409e-01,\n",
       "        1.97227508e-01, -3.37611347e-01,  4.37196672e-01,  1.01101279e-01,\n",
       "        1.65602937e-03,  8.32186043e-02, -1.51080012e-01, -5.17713547e-01,\n",
       "        1.40345812e-01,  1.63480043e-01,  6.40292704e-01, -1.26759872e-01,\n",
       "       -2.16676801e-01, -2.44054571e-01,  3.18664849e-01,  5.44295669e-01,\n",
       "        3.09137523e-01, -1.31551027e+00, -3.27513933e-01, -5.29341698e-01,\n",
       "       -6.26171589e-01,  2.67940834e-02,  1.30767018e-01, -8.29388946e-02,\n",
       "       -4.57305193e-01, -2.43489414e-01, -2.70675123e-02, -5.41273542e-02,\n",
       "       -1.93390951e-01,  4.23583001e-01,  3.67605656e-01,  2.72960700e-02,\n",
       "        1.19268283e-01, -4.34210211e-01, -5.30203938e-01, -8.08443949e-02,\n",
       "       -4.42279786e-01,  3.16314667e-01, -2.41765633e-01, -1.15862675e-02,\n",
       "        6.89803839e-01,  1.18505493e-01,  2.72804141e-01,  2.45618030e-01,\n",
       "        3.76027584e-01, -1.98528618e-01,  1.66068211e-01,  3.99632931e-01,\n",
       "        3.88794839e-01, -1.00531593e-01,  3.50275844e-01,  2.27915704e-01,\n",
       "        5.84336519e-01, -2.12778822e-01,  6.08478069e-01, -5.70834994e-01,\n",
       "       -4.97342832e-03,  5.32023311e-01,  9.01820809e-02, -3.26265693e-01,\n",
       "        1.50380701e-01, -3.57524097e-01, -2.20338419e-01, -1.27493516e-01,\n",
       "       -2.80309290e-01, -3.58916491e-01,  1.15721121e-01, -3.31335515e-03,\n",
       "       -8.59837115e-01, -6.39706910e-01, -6.82198033e-02,  1.94239065e-01,\n",
       "        2.18417227e-01,  3.00587684e-01, -1.92069262e-01, -2.86689579e-01,\n",
       "        1.32856041e-01,  3.15074146e-01, -1.73803255e-01,  1.66203991e-01,\n",
       "       -1.41601056e-01, -2.13164106e-01, -2.71459609e-01, -3.49295825e-01,\n",
       "        1.44766867e-01, -4.13483053e-01,  1.03490107e-01,  8.09833765e-01,\n",
       "        1.60368271e-02,  7.78441727e-02, -3.28430444e-01, -4.21631634e-02,\n",
       "       -3.81216884e-01,  4.05794293e-01,  7.16015249e-02, -6.11699559e-02,\n",
       "       -9.96973738e-02,  5.30477881e-01, -5.33647612e-02,  7.92848840e-02,\n",
       "        6.23078167e-01,  8.92282650e-02, -5.06866097e-01, -2.78605253e-01,\n",
       "        2.56191269e-02,  7.47540653e-01, -4.55163904e-02,  4.62814569e-01,\n",
       "        2.30580539e-01, -1.21746898e+00, -6.12601101e-01,  4.14957553e-01,\n",
       "       -2.18794011e-02, -4.04151529e-03, -1.29866987e-01, -9.94446501e-02,\n",
       "       -3.94701928e-01, -8.91863927e-03,  6.45015389e-02, -4.26243782e-01,\n",
       "       -3.10706720e-03, -2.20989436e-03,  3.35057199e-01,  1.02244660e-01,\n",
       "        1.58530116e-01,  1.26118034e-01,  3.02976817e-01,  9.14261639e-02,\n",
       "        5.29111587e-02, -1.89517632e-01, -2.27367803e-01,  6.56439215e-02,\n",
       "       -1.86619118e-01, -2.74579227e-01, -1.40212536e-01, -5.19070864e-01,\n",
       "       -4.17862236e-01,  7.53110051e-02, -1.10336825e-01, -3.84703428e-01,\n",
       "        9.10182670e-03,  5.19720837e-02, -4.62230563e-01, -1.28965974e-01,\n",
       "        4.64449286e-01, -4.14573908e-01, -1.62431926e-01,  4.01833445e-01,\n",
       "       -1.05764940e-01, -5.43615222e-01,  5.05448505e-02,  2.21456528e-01,\n",
       "       -5.92252731e-01, -4.01204109e-01, -2.05099791e-01, -2.24537030e-02,\n",
       "       -5.58755994e-01, -6.18644990e-03,  1.15919285e-01,  2.81610966e-01,\n",
       "       -9.13437158e-02,  8.57806504e-02, -2.02128455e-01,  9.97355804e-02,\n",
       "       -9.54082370e-01,  5.11808038e-01, -1.03835538e-02,  4.80362236e-01,\n",
       "        2.06773821e-02, -3.19654018e-01, -8.98172677e-01, -3.42910826e-01,\n",
       "       -8.77472758e-02, -1.39405236e-01,  1.38682187e-01,  3.66567969e-01,\n",
       "        3.97292048e-01, -5.78660741e-02, -1.90365300e-01,  2.40527540e-01,\n",
       "        2.21815810e-01, -1.80177242e-01, -8.23427737e-02,  5.05816638e-01,\n",
       "       -4.26167846e-01,  3.17863852e-01, -1.55092686e-01,  2.17588678e-01,\n",
       "        7.04924703e-01, -5.34376144e-01,  9.18047726e-01, -3.18911791e-01,\n",
       "        1.92693204e-01, -8.03555101e-02, -4.90273118e-01,  1.36352852e-02,\n",
       "        5.03482044e-01,  1.33663058e-01,  2.22645193e-01,  3.34065348e-01,\n",
       "        2.92988420e-01, -2.97659002e-02, -2.93200314e-01, -2.03816324e-01,\n",
       "        5.22683799e-01, -2.11269513e-01, -1.56173840e-01, -5.81633091e-01,\n",
       "       -4.74588946e-02,  1.30855367e-01,  2.79595107e-01,  6.95935607e-01,\n",
       "       -3.85579839e-03,  1.64949477e-01, -3.90462428e-01,  1.50283322e-01,\n",
       "        2.50570297e-01,  2.84049392e-01,  2.81016231e-01,  3.65437597e-01,\n",
       "        3.53295177e-01,  2.68692970e-01,  3.85704488e-01,  2.18200430e-01,\n",
       "        9.59840417e-02,  3.39015156e-01, -1.68882430e-01,  3.94223928e-01,\n",
       "       -9.00297642e-01,  1.95254251e-01, -2.24237859e-01,  1.75111735e+00,\n",
       "        5.92771508e-02,  3.53107661e-01,  2.12780893e-01, -3.01967114e-01,\n",
       "       -4.15346712e-01,  1.51385546e-01,  1.15705930e-01, -8.32216889e-02,\n",
       "        3.22802275e-01,  8.00458267e-02,  9.09873545e-02, -5.30795038e-01,\n",
       "       -3.51360381e-01,  3.53661031e-01,  2.36478672e+01, -1.06718555e-01,\n",
       "       -1.25839221e+00, -4.21597481e-01,  1.81091465e-02, -1.57584965e-01,\n",
       "        1.75673470e-01,  1.54684246e-01,  3.23381051e-02, -3.68164301e-01,\n",
       "       -2.74281148e-02,  4.34318155e-01,  4.34963070e-02,  5.05747557e-01,\n",
       "       -5.80729917e-02, -5.44210553e-01, -3.62043768e-01, -6.59560785e-02,\n",
       "        1.40632913e-02,  6.31840602e-02, -2.76271254e-01,  2.64062375e-01,\n",
       "        3.22075129e-01,  9.65714380e-02, -2.46893063e-01, -4.57073189e-02,\n",
       "        3.22319776e-01, -6.36834085e-01, -1.56253517e-01, -2.45162308e-01,\n",
       "        1.14962310e-01, -4.97526586e-01,  1.81659445e-01,  1.01966429e+00,\n",
       "        1.30349919e-01, -7.22472668e-01,  5.36392808e-01, -8.93666267e-01,\n",
       "        5.20458162e-01, -3.79664689e-01, -5.59717536e-01,  7.28425384e-02,\n",
       "        2.21473455e-01, -5.12334287e-01,  2.49060616e-01, -2.96278208e-01,\n",
       "       -2.72313148e-01, -7.11449832e-02,  4.73199934e-01, -1.62813738e-01,\n",
       "        2.43383393e-01, -2.38489002e-01,  2.15795055e-01, -7.42437780e-01,\n",
       "       -7.88103193e-02,  2.30861828e-01,  3.23165506e-01, -6.44135475e-02,\n",
       "       -1.37596130e-01,  3.37640420e-02, -2.08061114e-01,  6.74329847e-02,\n",
       "       -6.44787073e-01,  5.68521500e-01, -1.46691412e-01, -9.70304310e-02,\n",
       "        1.91692010e-01, -5.03284261e-02,  1.28014997e-01,  6.06135987e-02,\n",
       "       -5.17124534e-01,  2.04771701e-02, -6.67327940e-02,  3.68410498e-01,\n",
       "        5.39596342e-02,  3.45991105e-01, -8.55218843e-02, -2.42467433e-01,\n",
       "        5.33430517e-01,  4.43154573e-01, -1.45433545e-01,  2.28560567e-01,\n",
       "        5.17906308e-01,  6.67399108e-01,  4.05177653e-01, -1.93654746e-01,\n",
       "        2.15317249e-01,  2.90428787e-01, -6.71359539e-01, -5.02287984e-01,\n",
       "       -1.88685972e-02, -4.33677733e-01, -4.50595051e-01,  3.73056203e-01,\n",
       "       -2.82378584e-01,  4.70564067e-02,  1.50098622e-01,  4.22161788e-01,\n",
       "       -1.94924206e-01,  2.02922940e-01,  1.20417148e-01,  3.00148308e-01,\n",
       "        5.87945402e-01,  3.44373584e-01, -4.22930837e-01,  4.67136279e-02,\n",
       "       -1.02083340e-01,  1.47749051e-01, -4.79481101e-01,  2.84503520e-01,\n",
       "        7.82696158e-02,  1.12166785e-01,  5.99365473e-01, -3.22997361e-01,\n",
       "        3.90850365e-01,  1.65135507e-03, -4.61469531e-01,  2.27089077e-01,\n",
       "        1.26888528e-01,  3.13120186e-02, -1.70010135e-01, -3.15984190e-01,\n",
       "        6.73373401e-01,  2.09428489e-01, -1.61887154e-01, -1.75468221e-01,\n",
       "        7.51744434e-02, -2.87274390e-01,  2.93409638e-02,  2.78392732e-01,\n",
       "        2.75427908e-01,  1.46625414e-01,  5.57263792e-01, -2.19151124e-01,\n",
       "       -2.11756527e-01, -1.12603530e-01, -5.02699614e-01,  1.64475664e-01,\n",
       "       -1.90015003e-01,  1.62352428e-01,  4.30368371e-02, -3.74357462e-01,\n",
       "       -2.12871537e-01, -3.82765025e-01,  7.63023019e-01,  7.70090699e-01,\n",
       "        1.51305392e-01, -3.18408668e-01, -1.72214150e-01,  4.48213607e-01,\n",
       "        8.03548217e-01, -5.80466211e-01, -7.20997229e-02,  1.58363543e-02,\n",
       "       -3.09617847e-01,  2.26617843e-01,  1.04298629e-01, -2.91969955e-01,\n",
       "        2.32709736e-01, -4.59552743e-02, -4.23277646e-01, -2.89951086e-01,\n",
       "       -3.60286295e-01, -1.27508909e-01, -2.97864914e-01, -8.88170674e-04,\n",
       "        2.95842718e-02, -1.19905993e-01,  5.26754498e-01,  1.88526675e-01,\n",
       "       -2.61570215e-01, -7.54376054e-02, -1.29734218e-01, -6.19891226e-01,\n",
       "        2.43498519e-01, -4.04120475e-01,  3.25138450e-01,  4.42880988e-01,\n",
       "       -1.51971392e-02,  2.78717965e-01, -1.92696363e-01, -1.61589384e-01,\n",
       "        3.10507834e-01, -4.67529178e-01,  2.27051288e-01,  2.46693939e-02,\n",
       "        2.91952908e-01,  3.02387588e-03, -8.47827315e-01, -1.50572628e-01,\n",
       "        7.27809966e-01,  1.87357962e-01, -7.81443343e-02,  7.12125152e-02,\n",
       "       -3.52221996e-01,  6.99708983e-02,  1.42546088e-01,  4.64959741e-02,\n",
       "        3.08982342e-01,  2.27216125e-01, -2.22133711e-01, -4.00986701e-01,\n",
       "        9.67761204e-02, -2.23904788e-01,  1.29166260e-01, -1.23423323e-01,\n",
       "        2.69622505e-01, -3.04128289e-01, -4.73640785e-02, -2.98213869e-01,\n",
       "        3.58383179e-01,  1.01420648e-01,  8.29263106e-02, -8.51476640e-02,\n",
       "       -3.40286314e-01,  1.68435261e-01, -8.90062571e-01, -2.35274106e-01,\n",
       "        6.43607795e-01,  2.61111140e-01,  1.94537729e-01, -2.44488075e-01,\n",
       "       -9.89180446e-01,  1.79665387e-01,  4.91440088e-01, -7.24767148e-02,\n",
       "       -2.27105319e-01, -1.51543975e-01, -1.80248410e-01, -1.50979593e-01,\n",
       "       -2.33121276e-01, -1.06879771e-01, -7.70713016e-02,  5.46639562e-01,\n",
       "       -4.97346856e-02, -2.95579076e-01,  9.75266993e-02,  9.46099237e-02,\n",
       "       -4.72144067e-01,  4.94137138e-01, -6.83115661e-01, -2.48220548e-01,\n",
       "       -9.41384673e-01,  5.50307631e-02, -3.10062647e-01, -2.46178687e-01,\n",
       "        4.27019477e-01,  2.08537042e-01, -2.71656752e-01, -1.63503870e-01,\n",
       "        1.63984567e-01, -9.97179747e-02, -3.52389365e-01, -5.83943546e-01,\n",
       "       -5.95392168e-01,  2.80598789e-01,  1.30174473e-01,  1.79070130e-01,\n",
       "        3.62075508e-01,  8.85731131e-02, -1.09326556e-01,  2.80336887e-01,\n",
       "        2.49246716e-01,  2.23148718e-01, -5.67383230e-01,  6.34596407e-01,\n",
       "       -9.01601762e-02, -4.78006423e-01, -2.33587280e-01,  9.41589922e-02,\n",
       "        3.98768604e-01,  2.19039693e-01,  1.98706716e-01, -1.84221864e-01,\n",
       "        7.28093311e-02,  2.43613780e-01,  6.13933444e-01,  6.37778640e-01,\n",
       "        3.83310497e-01, -6.06957972e-02,  3.05502743e-01,  8.30610037e-01,\n",
       "       -6.40144289e-01, -6.59198821e-01,  1.80220798e-01, -7.70475566e-02,\n",
       "       -3.60822916e-01,  6.91271722e-02, -9.05678689e-01,  3.20133805e-01,\n",
       "       -3.53561312e-01, -3.51587355e-01, -1.77503258e-01, -5.66904545e-01,\n",
       "        1.11472853e-01,  2.66631126e-01, -1.04981288e-01,  2.30763853e-01,\n",
       "       -2.88600713e-01,  2.67612249e-01,  4.43746448e-01,  3.72507393e-01,\n",
       "       -4.43089515e-01, -2.70899162e-02,  2.52361417e-01,  3.00594509e-01,\n",
       "       -3.09636563e-01, -3.27788770e-01,  4.12221968e-01, -2.56731436e-02,\n",
       "        2.99115125e-02,  1.25558704e-01,  6.58849850e-02,  4.22412828e-02,\n",
       "        8.91494155e-01, -5.55595048e-02,  2.24274576e-01,  5.18502712e-01,\n",
       "        3.27378027e-02,  2.48731062e-01, -1.55685574e-01, -5.28169632e-01,\n",
       "        4.84781489e-02,  7.66319513e-01, -2.21391723e-01,  1.94942385e-01,\n",
       "        1.09579697e-01, -3.89839023e-01, -4.73954737e-01, -4.15191591e-01,\n",
       "        7.35151321e-02,  4.69231829e-02, -4.57896382e-01,  7.50377834e-01,\n",
       "       -9.97633934e-02, -2.92390674e-01,  5.37459016e-01, -4.13093194e-02,\n",
       "        3.56866643e-02, -1.13370441e-01, -3.21648866e-01, -4.08106416e-01,\n",
       "        1.44416913e-02,  6.08149692e-02,  4.72494327e-02, -3.97818506e-01],\n",
       "      dtype=float32)"
      ]
     },
     "execution_count": 6,
     "metadata": {},
     "output_type": "execute_result"
    }
   ],
   "source": [
    "bert_summarizer.extract_doc_embedding(sample_text)"
   ]
  },
  {
   "cell_type": "code",
   "execution_count": 9,
   "metadata": {},
   "outputs": [],
   "source": [
    "#Build two sets of embeddings\n",
    "\n",
    "sample_text = 'Peter and Elizabeth took a taxi to attend the night party in the city. While in the party, Elizabeth collapsed and was rushed to the hospital. Since she was diagnosed with a brain injury, the doctor told Peter to stay besides her until she gets well. Therefore, Peter stayed with her at the hospital for 3 days without leaving.'\n",
    "sample_text2 = 'Peter and Elizabeth took a taxi to attend the night party in the city. While in the party, Elizabeth collapsed and was rushed to the hospital. Since she was diagnosed with a brain injury.'\n",
    "sample_text3 = 'I am so excited to be finally completing my MIDS program.'\n",
    "\n",
    "embedding1 = bert_summarizer.extract_doc_embedding(sample_text)\n",
    "embedding2 = bert_summarizer.extract_doc_embedding(sample_text2)\n",
    "embedding3 = bert_summarizer.extract_doc_embedding(sample_text3)"
   ]
  },
  {
   "cell_type": "code",
   "execution_count": 10,
   "metadata": {},
   "outputs": [
    {
     "name": "stdout",
     "output_type": "stream",
     "text": [
      "Similar [[0.9868824]]\n",
      "Different [[0.8636333]]\n"
     ]
    }
   ],
   "source": [
    "print(\"Similar\", summarization.summarization_evaluation(embedding1,embedding2))\n",
    "print(\"Different\", summarization.summarization_evaluation(embedding1,embedding3))"
   ]
  },
  {
   "cell_type": "markdown",
   "metadata": {},
   "source": [
    "Code below is untested"
   ]
  },
  {
   "cell_type": "code",
   "execution_count": 6,
   "metadata": {},
   "outputs": [],
   "source": [
    "import sys\n",
    "sys.path.append('../modules/')\n",
    "import summarization\n",
    "import pickle\n",
    "import os\n",
    "\n",
    "# CONFIG\n",
    "\n",
    "#DATA_DIR = '/home/ubuntu/efs-mnt/latest/'\n",
    "DATA_DIR = '/Users/mursil.makhani/Drive_MIDS/workspace/mids/w210_capstone/'\n",
    "\n",
    "#DATA_INPUT = 'df_covid_with_text.pkl'\n",
    "DATA_INPUT = 'sample_data_with_text.pkl'\n",
    "DATA_OUTPUT = 'df_covid_with_summary.pkl'\n",
    "\n",
    "COLUMN_INPUT = 'text'\n",
    "\n",
    "# Load Data\n",
    "\n",
    "with open(os.path.join(DATA_DIR,DATA_INPUT),'rb') as f:\n",
    "    df_covid = pickle.load(f)\n",
    "    text_data = df_covid[COLUMN_INPUT]"
   ]
  },
  {
   "cell_type": "code",
   "execution_count": 18,
   "metadata": {
    "scrolled": true
   },
   "outputs": [
    {
     "data": {
      "text/plain": [
       "'The current outbreak of coronavirus disease 2019 (COVID-19), caused by severe acute respiratory syndrome coronavirus 2 (SARS-CoV-2), continues with astonishing speed. Although the transmission of COVID-19 occurs mainly via droplets during close contact or contaminated surfaces, a recent study showed that SARS-CoV-2 remains viable in aerosols for multiple hours [1] , and the World Health Organization (WHO) is considering \"airborne precautions\" for medical staff [2] . China even issued the airborne precaution in the \"Chinese Government\\'s New Coronavirus Pneumonia Diagnosis and Treatment Plan\" [3] .\\nMost literatures report that the detection of virus in room air is very rare except in the source zones. For example, Liu et al. showed that the virus RNA copies were significant only in the patient\\'s toilet room [4] ; and Ong et al. did not detect virus in air, but detected it on the surface of air outlet fan located very close to the patient [5] . However, a latest study provided evidence that SARS-CoV-2 widely distributed in the air and the transmission distance in the air might be up to 4 m in hospital wards [6] . The report issued by the National Academies of Sciences, Engineering, and Medicine suggested that currently available research supports the possibility that SARS-CoV-2 could be spread via bioaerosols generated directly by patients\\' exhalation based on collected evidences [7] . For control of opportunistic airborne transmission in health care settings, WHO recommends a ventilation rate at least 288 m 3 /h per person [8] . Natural ventilation or mechanical ventilation system is necessary to achieve such a high ventilation rate. However, natural ventilation is dependent on weather condition and building structure, which make it difficult to achieve such a ventilation rate all the time. Especially, the existing ventilation system in those temporary hospitals receiving and curing COVID-19 patients during this urgent pandemic period usually provides lower ventilation rate, not as high as the recommendations. In health care settings without enough ventilation provided by their existing ventilation system, or none at all, use of indoor air purifiers may be an effective supplementary measure to improve the dilution of indoor air contaminated with virus-laden aerosols. A previous study has proved air purifiers can reduce the health-care workers\\' exposure to aerosols and droplets in dental clinics significantly [9] .\\nAs measured by Liu et al., the peak concentration of SARS-CoV-2 aerosols appears in two distinct size ranges, one in the submicron region with aerodynamic diameter dominant between 0.25 and 1.0 μm, and the other peak in supermicron region with diameter larger than 2.5 μm [4] . Such aerosols just fall in the size range that can be effectively removed by air purifiers. Most air purifiers employ high-efficiency particulate air filters (HEPA) for particles filtration, the filtration efficiencies of HEPA is high enough to remove such virus-laden aerosols. According to our previous measurements, the efficiencies of HEPA are more than 95% for aerosols of diameter between 0.25 and 1.0 μm and nearly 100% for those with diameter larger than 2.5 μm [10] . The air purifiers are affordable with enough clean air delivery rate (CADR, a figure of merit that is the cubic meter per hour of air that has had all the particles of a given size distribution removed) and low electric power: the median CADR is 361 m 3 /h and the median electric power per CADR is only 0.15 W/(m 3 /h), according to our survey of 100 best-selling air purifiers on China\\'s major online-shopping sites ( Table 1) .\\nThe current shortage of personal protective equipment is endangering health workers worldwide [11] . The portable, affordable, and effective air purifiers have the potential to reduce the exposure of healthcare workers to virus-laden aerosols and serve as a useful supplement to other protective procedures. Moreover, for COVID-19 patients, or suspected cases, who are being quarantined at home, using air purifiers can also reduce the exposure of those in the same households to the virus-laden aerosols, thus reducing the risk of household infection. Whenever air purifiers are used, filters should be collected and disposed as medical waste or disinfected thoroughly to prevent secondary contamination. As there is still lack of proper guidance of handling the filters for such an application, the frequency to replace or clean the filters may should be higher than that for ordinary use. Furthermore, the air purifiers with disinfection capability may be more effective for combating the virus, and could be considered for use if necessary. Such air purifiers would cost more and consume more energy, but this is perhaps of a less concern under the current pandemic situation.\\nFinally, we should be aware that the indoor air purifiers should be used as a supplementary and precautionary measure after other more significant measures have been taken, such as local source control that includes local pollutants exhaust, filtration, removal and disinfection, as well as the frequent disinfection of the room and furnishing surfaces, and ventilation.\\nAll authors have made substantial contributions to all of the following:\\n(1) BZ designed the conception, and drafted the manuscript.\\n(2) YL analysed the data and helped to draft the manuscript.\\n(3) CC collected the data for air purifiers.\\nThe authors declare that they have no known competing financial interests or personal relationships that could have appeared to influence the work reported in this paper. CADR ¼ clean air delivery rate. P5 ¼ the 5th percentile of the distribution. P25 ¼ the 25th percentile of the distribution. P75 ¼ the 75th percentile of the distribution. P95 ¼ the 95th percentile of the distribution.'"
      ]
     },
     "execution_count": 18,
     "metadata": {},
     "output_type": "execute_result"
    }
   ],
   "source": [
    "text_data.reset_index().text[0]"
   ]
  },
  {
   "cell_type": "code",
   "execution_count": 8,
   "metadata": {},
   "outputs": [],
   "source": [
    "model, tokenizer = summarization.build_scibert_objects()\n",
    "summarizer = summarization.build_summarizer_scibert(model=model, model_tokenizer=tokenizer)\n",
    "embedding_extractor = summarization.build_embedding_extractor_scibert(model=model, model_tokenizer=tokenizer)\n",
    "\n",
    "#df_covid['scibert_embedding'] = text_data.apply(summarization.extract_embedding_scibert,extractor=embedding_extractor) \n",
    "#df_covid['scibert_summary'] = text_data.apply(summarization.summarization_scibert,summarizer=summarizer)\n"
   ]
  },
  {
   "cell_type": "code",
   "execution_count": 16,
   "metadata": {},
   "outputs": [
    {
     "name": "stdout",
     "output_type": "stream",
     "text": [
      "running extraction\n"
     ]
    },
    {
     "ename": "IndexError",
     "evalue": "index out of range in self",
     "output_type": "error",
     "traceback": [
      "\u001b[0;31m---------------------------------------------------------------------------\u001b[0m",
      "\u001b[0;31mIndexError\u001b[0m                                Traceback (most recent call last)",
      "\u001b[0;32m<ipython-input-16-259120f1f840>\u001b[0m in \u001b[0;36m<module>\u001b[0;34m\u001b[0m\n\u001b[0;32m----> 1\u001b[0;31m \u001b[0msummarization\u001b[0m\u001b[0;34m.\u001b[0m\u001b[0mextract_embedding_scibert\u001b[0m\u001b[0;34m(\u001b[0m\u001b[0mtext_data\u001b[0m\u001b[0;34m.\u001b[0m\u001b[0mreset_index\u001b[0m\u001b[0;34m(\u001b[0m\u001b[0;34m)\u001b[0m\u001b[0;34m.\u001b[0m\u001b[0mtext\u001b[0m\u001b[0;34m[\u001b[0m\u001b[0;36m1\u001b[0m\u001b[0;34m]\u001b[0m\u001b[0;34m)\u001b[0m\u001b[0;34m\u001b[0m\u001b[0;34m\u001b[0m\u001b[0m\n\u001b[0m",
      "\u001b[0;32m~/Drive_MIDS/workspace/mids/w210_capstone/capstone_corona_search/modules/summarization.py\u001b[0m in \u001b[0;36mextract_embedding_scibert\u001b[0;34m(text_string, extractor)\u001b[0m\n\u001b[1;32m    242\u001b[0m         \u001b[0mextractor\u001b[0m \u001b[0;34m=\u001b[0m \u001b[0mbuild_embedding_extractor_scibert\u001b[0m\u001b[0;34m(\u001b[0m\u001b[0;34m)\u001b[0m\u001b[0;34m\u001b[0m\u001b[0;34m\u001b[0m\u001b[0m\n\u001b[1;32m    243\u001b[0m     \u001b[0mprint\u001b[0m\u001b[0;34m(\u001b[0m\u001b[0;34m'running extraction'\u001b[0m\u001b[0;34m)\u001b[0m\u001b[0;34m\u001b[0m\u001b[0;34m\u001b[0m\u001b[0m\n\u001b[0;32m--> 244\u001b[0;31m     \u001b[0;32mreturn\u001b[0m \u001b[0mextractor\u001b[0m\u001b[0;34m.\u001b[0m\u001b[0mextract_embeddings\u001b[0m\u001b[0;34m(\u001b[0m\u001b[0mtext_string\u001b[0m\u001b[0;34m,\u001b[0m \u001b[0msqueeze\u001b[0m \u001b[0;34m=\u001b[0m \u001b[0;32mTrue\u001b[0m\u001b[0;34m)\u001b[0m\u001b[0;34m\u001b[0m\u001b[0;34m\u001b[0m\u001b[0m\n\u001b[0m\u001b[1;32m    245\u001b[0m \u001b[0;34m\u001b[0m\u001b[0m\n\u001b[1;32m    246\u001b[0m \u001b[0;31m# Evaluation\u001b[0m\u001b[0;34m\u001b[0m\u001b[0;34m\u001b[0m\u001b[0;34m\u001b[0m\u001b[0m\n",
      "\u001b[0;32m~/Drive_MIDS/workspace/mids/w210_capstone/capstone_corona_search/modules/summarization.py\u001b[0m in \u001b[0;36mextract_embeddings\u001b[0;34m(self, text, hidden, squeeze, reduce_option)\u001b[0m\n\u001b[1;32m    138\u001b[0m \u001b[0;34m\u001b[0m\u001b[0m\n\u001b[1;32m    139\u001b[0m         \u001b[0mtokens_tensor\u001b[0m \u001b[0;34m=\u001b[0m \u001b[0mself\u001b[0m\u001b[0;34m.\u001b[0m\u001b[0mtokenize_input\u001b[0m\u001b[0;34m(\u001b[0m\u001b[0mtext\u001b[0m\u001b[0;34m)\u001b[0m\u001b[0;34m\u001b[0m\u001b[0;34m\u001b[0m\u001b[0m\n\u001b[0;32m--> 140\u001b[0;31m         \u001b[0mpooled\u001b[0m\u001b[0;34m,\u001b[0m \u001b[0mhidden_states\u001b[0m \u001b[0;34m=\u001b[0m \u001b[0mself\u001b[0m\u001b[0;34m.\u001b[0m\u001b[0mmodel\u001b[0m\u001b[0;34m(\u001b[0m\u001b[0mtokens_tensor\u001b[0m\u001b[0;34m)\u001b[0m\u001b[0;34m[\u001b[0m\u001b[0;34m-\u001b[0m\u001b[0;36m2\u001b[0m\u001b[0;34m:\u001b[0m\u001b[0;34m]\u001b[0m\u001b[0;34m\u001b[0m\u001b[0;34m\u001b[0m\u001b[0m\n\u001b[0m\u001b[1;32m    141\u001b[0m \u001b[0;34m\u001b[0m\u001b[0m\n\u001b[1;32m    142\u001b[0m         \u001b[0;32mif\u001b[0m \u001b[0;34m-\u001b[0m\u001b[0;36m1\u001b[0m \u001b[0;34m>\u001b[0m \u001b[0mhidden\u001b[0m \u001b[0;34m>\u001b[0m \u001b[0;34m-\u001b[0m\u001b[0;36m12\u001b[0m\u001b[0;34m:\u001b[0m\u001b[0;34m\u001b[0m\u001b[0;34m\u001b[0m\u001b[0m\n",
      "\u001b[0;32m~/opt/anaconda3/lib/python3.7/site-packages/torch/nn/modules/module.py\u001b[0m in \u001b[0;36m__call__\u001b[0;34m(self, *input, **kwargs)\u001b[0m\n\u001b[1;32m    548\u001b[0m             \u001b[0mresult\u001b[0m \u001b[0;34m=\u001b[0m \u001b[0mself\u001b[0m\u001b[0;34m.\u001b[0m\u001b[0m_slow_forward\u001b[0m\u001b[0;34m(\u001b[0m\u001b[0;34m*\u001b[0m\u001b[0minput\u001b[0m\u001b[0;34m,\u001b[0m \u001b[0;34m**\u001b[0m\u001b[0mkwargs\u001b[0m\u001b[0;34m)\u001b[0m\u001b[0;34m\u001b[0m\u001b[0;34m\u001b[0m\u001b[0m\n\u001b[1;32m    549\u001b[0m         \u001b[0;32melse\u001b[0m\u001b[0;34m:\u001b[0m\u001b[0;34m\u001b[0m\u001b[0;34m\u001b[0m\u001b[0m\n\u001b[0;32m--> 550\u001b[0;31m             \u001b[0mresult\u001b[0m \u001b[0;34m=\u001b[0m \u001b[0mself\u001b[0m\u001b[0;34m.\u001b[0m\u001b[0mforward\u001b[0m\u001b[0;34m(\u001b[0m\u001b[0;34m*\u001b[0m\u001b[0minput\u001b[0m\u001b[0;34m,\u001b[0m \u001b[0;34m**\u001b[0m\u001b[0mkwargs\u001b[0m\u001b[0;34m)\u001b[0m\u001b[0;34m\u001b[0m\u001b[0;34m\u001b[0m\u001b[0m\n\u001b[0m\u001b[1;32m    551\u001b[0m         \u001b[0;32mfor\u001b[0m \u001b[0mhook\u001b[0m \u001b[0;32min\u001b[0m \u001b[0mself\u001b[0m\u001b[0;34m.\u001b[0m\u001b[0m_forward_hooks\u001b[0m\u001b[0;34m.\u001b[0m\u001b[0mvalues\u001b[0m\u001b[0;34m(\u001b[0m\u001b[0;34m)\u001b[0m\u001b[0;34m:\u001b[0m\u001b[0;34m\u001b[0m\u001b[0;34m\u001b[0m\u001b[0m\n\u001b[1;32m    552\u001b[0m             \u001b[0mhook_result\u001b[0m \u001b[0;34m=\u001b[0m \u001b[0mhook\u001b[0m\u001b[0;34m(\u001b[0m\u001b[0mself\u001b[0m\u001b[0;34m,\u001b[0m \u001b[0minput\u001b[0m\u001b[0;34m,\u001b[0m \u001b[0mresult\u001b[0m\u001b[0;34m)\u001b[0m\u001b[0;34m\u001b[0m\u001b[0;34m\u001b[0m\u001b[0m\n",
      "\u001b[0;32m~/opt/anaconda3/lib/python3.7/site-packages/transformers/modeling_bert.py\u001b[0m in \u001b[0;36mforward\u001b[0;34m(self, input_ids, attention_mask, token_type_ids, position_ids, head_mask, inputs_embeds, encoder_hidden_states, encoder_attention_mask)\u001b[0m\n\u001b[1;32m    725\u001b[0m \u001b[0;34m\u001b[0m\u001b[0m\n\u001b[1;32m    726\u001b[0m         embedding_output = self.embeddings(\n\u001b[0;32m--> 727\u001b[0;31m             \u001b[0minput_ids\u001b[0m\u001b[0;34m=\u001b[0m\u001b[0minput_ids\u001b[0m\u001b[0;34m,\u001b[0m \u001b[0mposition_ids\u001b[0m\u001b[0;34m=\u001b[0m\u001b[0mposition_ids\u001b[0m\u001b[0;34m,\u001b[0m \u001b[0mtoken_type_ids\u001b[0m\u001b[0;34m=\u001b[0m\u001b[0mtoken_type_ids\u001b[0m\u001b[0;34m,\u001b[0m \u001b[0minputs_embeds\u001b[0m\u001b[0;34m=\u001b[0m\u001b[0minputs_embeds\u001b[0m\u001b[0;34m\u001b[0m\u001b[0;34m\u001b[0m\u001b[0m\n\u001b[0m\u001b[1;32m    728\u001b[0m         )\n\u001b[1;32m    729\u001b[0m         encoder_outputs = self.encoder(\n",
      "\u001b[0;32m~/opt/anaconda3/lib/python3.7/site-packages/torch/nn/modules/module.py\u001b[0m in \u001b[0;36m__call__\u001b[0;34m(self, *input, **kwargs)\u001b[0m\n\u001b[1;32m    548\u001b[0m             \u001b[0mresult\u001b[0m \u001b[0;34m=\u001b[0m \u001b[0mself\u001b[0m\u001b[0;34m.\u001b[0m\u001b[0m_slow_forward\u001b[0m\u001b[0;34m(\u001b[0m\u001b[0;34m*\u001b[0m\u001b[0minput\u001b[0m\u001b[0;34m,\u001b[0m \u001b[0;34m**\u001b[0m\u001b[0mkwargs\u001b[0m\u001b[0;34m)\u001b[0m\u001b[0;34m\u001b[0m\u001b[0;34m\u001b[0m\u001b[0m\n\u001b[1;32m    549\u001b[0m         \u001b[0;32melse\u001b[0m\u001b[0;34m:\u001b[0m\u001b[0;34m\u001b[0m\u001b[0;34m\u001b[0m\u001b[0m\n\u001b[0;32m--> 550\u001b[0;31m             \u001b[0mresult\u001b[0m \u001b[0;34m=\u001b[0m \u001b[0mself\u001b[0m\u001b[0;34m.\u001b[0m\u001b[0mforward\u001b[0m\u001b[0;34m(\u001b[0m\u001b[0;34m*\u001b[0m\u001b[0minput\u001b[0m\u001b[0;34m,\u001b[0m \u001b[0;34m**\u001b[0m\u001b[0mkwargs\u001b[0m\u001b[0;34m)\u001b[0m\u001b[0;34m\u001b[0m\u001b[0;34m\u001b[0m\u001b[0m\n\u001b[0m\u001b[1;32m    551\u001b[0m         \u001b[0;32mfor\u001b[0m \u001b[0mhook\u001b[0m \u001b[0;32min\u001b[0m \u001b[0mself\u001b[0m\u001b[0;34m.\u001b[0m\u001b[0m_forward_hooks\u001b[0m\u001b[0;34m.\u001b[0m\u001b[0mvalues\u001b[0m\u001b[0;34m(\u001b[0m\u001b[0;34m)\u001b[0m\u001b[0;34m:\u001b[0m\u001b[0;34m\u001b[0m\u001b[0;34m\u001b[0m\u001b[0m\n\u001b[1;32m    552\u001b[0m             \u001b[0mhook_result\u001b[0m \u001b[0;34m=\u001b[0m \u001b[0mhook\u001b[0m\u001b[0;34m(\u001b[0m\u001b[0mself\u001b[0m\u001b[0;34m,\u001b[0m \u001b[0minput\u001b[0m\u001b[0;34m,\u001b[0m \u001b[0mresult\u001b[0m\u001b[0;34m)\u001b[0m\u001b[0;34m\u001b[0m\u001b[0;34m\u001b[0m\u001b[0m\n",
      "\u001b[0;32m~/opt/anaconda3/lib/python3.7/site-packages/transformers/modeling_bert.py\u001b[0m in \u001b[0;36mforward\u001b[0;34m(self, input_ids, token_type_ids, position_ids, inputs_embeds)\u001b[0m\n\u001b[1;32m    173\u001b[0m         \u001b[0;32mif\u001b[0m \u001b[0minputs_embeds\u001b[0m \u001b[0;32mis\u001b[0m \u001b[0;32mNone\u001b[0m\u001b[0;34m:\u001b[0m\u001b[0;34m\u001b[0m\u001b[0;34m\u001b[0m\u001b[0m\n\u001b[1;32m    174\u001b[0m             \u001b[0minputs_embeds\u001b[0m \u001b[0;34m=\u001b[0m \u001b[0mself\u001b[0m\u001b[0;34m.\u001b[0m\u001b[0mword_embeddings\u001b[0m\u001b[0;34m(\u001b[0m\u001b[0minput_ids\u001b[0m\u001b[0;34m)\u001b[0m\u001b[0;34m\u001b[0m\u001b[0;34m\u001b[0m\u001b[0m\n\u001b[0;32m--> 175\u001b[0;31m         \u001b[0mposition_embeddings\u001b[0m \u001b[0;34m=\u001b[0m \u001b[0mself\u001b[0m\u001b[0;34m.\u001b[0m\u001b[0mposition_embeddings\u001b[0m\u001b[0;34m(\u001b[0m\u001b[0mposition_ids\u001b[0m\u001b[0;34m)\u001b[0m\u001b[0;34m\u001b[0m\u001b[0;34m\u001b[0m\u001b[0m\n\u001b[0m\u001b[1;32m    176\u001b[0m         \u001b[0mtoken_type_embeddings\u001b[0m \u001b[0;34m=\u001b[0m \u001b[0mself\u001b[0m\u001b[0;34m.\u001b[0m\u001b[0mtoken_type_embeddings\u001b[0m\u001b[0;34m(\u001b[0m\u001b[0mtoken_type_ids\u001b[0m\u001b[0;34m)\u001b[0m\u001b[0;34m\u001b[0m\u001b[0;34m\u001b[0m\u001b[0m\n\u001b[1;32m    177\u001b[0m \u001b[0;34m\u001b[0m\u001b[0m\n",
      "\u001b[0;32m~/opt/anaconda3/lib/python3.7/site-packages/torch/nn/modules/module.py\u001b[0m in \u001b[0;36m__call__\u001b[0;34m(self, *input, **kwargs)\u001b[0m\n\u001b[1;32m    548\u001b[0m             \u001b[0mresult\u001b[0m \u001b[0;34m=\u001b[0m \u001b[0mself\u001b[0m\u001b[0;34m.\u001b[0m\u001b[0m_slow_forward\u001b[0m\u001b[0;34m(\u001b[0m\u001b[0;34m*\u001b[0m\u001b[0minput\u001b[0m\u001b[0;34m,\u001b[0m \u001b[0;34m**\u001b[0m\u001b[0mkwargs\u001b[0m\u001b[0;34m)\u001b[0m\u001b[0;34m\u001b[0m\u001b[0;34m\u001b[0m\u001b[0m\n\u001b[1;32m    549\u001b[0m         \u001b[0;32melse\u001b[0m\u001b[0;34m:\u001b[0m\u001b[0;34m\u001b[0m\u001b[0;34m\u001b[0m\u001b[0m\n\u001b[0;32m--> 550\u001b[0;31m             \u001b[0mresult\u001b[0m \u001b[0;34m=\u001b[0m \u001b[0mself\u001b[0m\u001b[0;34m.\u001b[0m\u001b[0mforward\u001b[0m\u001b[0;34m(\u001b[0m\u001b[0;34m*\u001b[0m\u001b[0minput\u001b[0m\u001b[0;34m,\u001b[0m \u001b[0;34m**\u001b[0m\u001b[0mkwargs\u001b[0m\u001b[0;34m)\u001b[0m\u001b[0;34m\u001b[0m\u001b[0;34m\u001b[0m\u001b[0m\n\u001b[0m\u001b[1;32m    551\u001b[0m         \u001b[0;32mfor\u001b[0m \u001b[0mhook\u001b[0m \u001b[0;32min\u001b[0m \u001b[0mself\u001b[0m\u001b[0;34m.\u001b[0m\u001b[0m_forward_hooks\u001b[0m\u001b[0;34m.\u001b[0m\u001b[0mvalues\u001b[0m\u001b[0;34m(\u001b[0m\u001b[0;34m)\u001b[0m\u001b[0;34m:\u001b[0m\u001b[0;34m\u001b[0m\u001b[0;34m\u001b[0m\u001b[0m\n\u001b[1;32m    552\u001b[0m             \u001b[0mhook_result\u001b[0m \u001b[0;34m=\u001b[0m \u001b[0mhook\u001b[0m\u001b[0;34m(\u001b[0m\u001b[0mself\u001b[0m\u001b[0;34m,\u001b[0m \u001b[0minput\u001b[0m\u001b[0;34m,\u001b[0m \u001b[0mresult\u001b[0m\u001b[0;34m)\u001b[0m\u001b[0;34m\u001b[0m\u001b[0;34m\u001b[0m\u001b[0m\n",
      "\u001b[0;32m~/opt/anaconda3/lib/python3.7/site-packages/torch/nn/modules/sparse.py\u001b[0m in \u001b[0;36mforward\u001b[0;34m(self, input)\u001b[0m\n\u001b[1;32m    112\u001b[0m         return F.embedding(\n\u001b[1;32m    113\u001b[0m             \u001b[0minput\u001b[0m\u001b[0;34m,\u001b[0m \u001b[0mself\u001b[0m\u001b[0;34m.\u001b[0m\u001b[0mweight\u001b[0m\u001b[0;34m,\u001b[0m \u001b[0mself\u001b[0m\u001b[0;34m.\u001b[0m\u001b[0mpadding_idx\u001b[0m\u001b[0;34m,\u001b[0m \u001b[0mself\u001b[0m\u001b[0;34m.\u001b[0m\u001b[0mmax_norm\u001b[0m\u001b[0;34m,\u001b[0m\u001b[0;34m\u001b[0m\u001b[0;34m\u001b[0m\u001b[0m\n\u001b[0;32m--> 114\u001b[0;31m             self.norm_type, self.scale_grad_by_freq, self.sparse)\n\u001b[0m\u001b[1;32m    115\u001b[0m \u001b[0;34m\u001b[0m\u001b[0m\n\u001b[1;32m    116\u001b[0m     \u001b[0;32mdef\u001b[0m \u001b[0mextra_repr\u001b[0m\u001b[0;34m(\u001b[0m\u001b[0mself\u001b[0m\u001b[0;34m)\u001b[0m\u001b[0;34m:\u001b[0m\u001b[0;34m\u001b[0m\u001b[0;34m\u001b[0m\u001b[0m\n",
      "\u001b[0;32m~/opt/anaconda3/lib/python3.7/site-packages/torch/nn/functional.py\u001b[0m in \u001b[0;36membedding\u001b[0;34m(input, weight, padding_idx, max_norm, norm_type, scale_grad_by_freq, sparse)\u001b[0m\n\u001b[1;32m   1722\u001b[0m         \u001b[0;31m# remove once script supports set_grad_enabled\u001b[0m\u001b[0;34m\u001b[0m\u001b[0;34m\u001b[0m\u001b[0;34m\u001b[0m\u001b[0m\n\u001b[1;32m   1723\u001b[0m         \u001b[0m_no_grad_embedding_renorm_\u001b[0m\u001b[0;34m(\u001b[0m\u001b[0mweight\u001b[0m\u001b[0;34m,\u001b[0m \u001b[0minput\u001b[0m\u001b[0;34m,\u001b[0m \u001b[0mmax_norm\u001b[0m\u001b[0;34m,\u001b[0m \u001b[0mnorm_type\u001b[0m\u001b[0;34m)\u001b[0m\u001b[0;34m\u001b[0m\u001b[0;34m\u001b[0m\u001b[0m\n\u001b[0;32m-> 1724\u001b[0;31m     \u001b[0;32mreturn\u001b[0m \u001b[0mtorch\u001b[0m\u001b[0;34m.\u001b[0m\u001b[0membedding\u001b[0m\u001b[0;34m(\u001b[0m\u001b[0mweight\u001b[0m\u001b[0;34m,\u001b[0m \u001b[0minput\u001b[0m\u001b[0;34m,\u001b[0m \u001b[0mpadding_idx\u001b[0m\u001b[0;34m,\u001b[0m \u001b[0mscale_grad_by_freq\u001b[0m\u001b[0;34m,\u001b[0m \u001b[0msparse\u001b[0m\u001b[0;34m)\u001b[0m\u001b[0;34m\u001b[0m\u001b[0;34m\u001b[0m\u001b[0m\n\u001b[0m\u001b[1;32m   1725\u001b[0m \u001b[0;34m\u001b[0m\u001b[0m\n\u001b[1;32m   1726\u001b[0m \u001b[0;34m\u001b[0m\u001b[0m\n",
      "\u001b[0;31mIndexError\u001b[0m: index out of range in self"
     ]
    }
   ],
   "source": [
    "summarization.extract_embedding_scibert(text_data.reset_index().text[1])"
   ]
  }
 ],
 "metadata": {
  "kernelspec": {
   "display_name": "Python [conda env:w210]",
   "language": "python",
   "name": "conda-env-w210-py"
  },
  "language_info": {
   "codemirror_mode": {
    "name": "ipython",
    "version": 3
   },
   "file_extension": ".py",
   "mimetype": "text/x-python",
   "name": "python",
   "nbconvert_exporter": "python",
   "pygments_lexer": "ipython3",
   "version": "3.7.7"
  },
  "toc": {
   "base_numbering": 1,
   "nav_menu": {},
   "number_sections": true,
   "sideBar": true,
   "skip_h1_title": false,
   "title_cell": "Table of Contents",
   "title_sidebar": "Contents",
   "toc_cell": false,
   "toc_position": {},
   "toc_section_display": true,
   "toc_window_display": false
  }
 },
 "nbformat": 4,
 "nbformat_minor": 4
}
